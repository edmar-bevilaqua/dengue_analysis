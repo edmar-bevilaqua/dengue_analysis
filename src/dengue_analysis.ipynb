{
 "cells": [
  {
   "cell_type": "markdown",
   "id": "22e421ec",
   "metadata": {},
   "source": [
    "# Dengue Analysis:\n",
    "---"
   ]
  },
  {
   "cell_type": "code",
   "execution_count": null,
   "id": "964a68cb",
   "metadata": {},
   "outputs": [],
   "source": [
    "import pandas as pd\n",
    "import numpy as np\n",
    "import matplotlib.pyplot as plt\n",
    "import seaborn as sns\n",
    "import subprocess\n",
    "import os\n",
    "import sys\n",
    "from utils.utils import (\n",
    "    print_with_colors,\n",
    ")"
   ]
  },
  {
   "cell_type": "markdown",
   "id": "65b904ae",
   "metadata": {},
   "source": [
    "## Download:\n",
    "---\n",
    "* Download the Dataset from Web if not already downloaded."
   ]
  },
  {
   "cell_type": "code",
   "execution_count": null,
   "id": "4aef298c",
   "metadata": {},
   "outputs": [],
   "source": [
    "if not os.path.exists(\"./raw_data\"):\n",
    "    os.makedirs(\"./raw_data\")\n",
    "\n",
    "if not os.path.exists(\"./raw_data/arbovirus_clinical_data\"):\n",
    "    # Download of .zip file\n",
    "    url = \"https://prod-dcd-datasets-cache-zipfiles.s3.eu-west-1.amazonaws.com/2d3kr8zynf-4.zip\"\n",
    "    output = f\"./raw_data/dataset.zip\"\n",
    "    subprocess.run([\"wget\", \"--quiet\", \"--no-check-certificate\", url, \"-O\", output])\n",
    "\n",
    "    # Extraction of .zip file\n",
    "    subprocess.run([\"unzip\", output])\n",
    "    subprocess.run([\"mv\", \"./2d3kr8zynf-4\", \"./raw_data/arbovirus_clinical_data\"])\n",
    "    subprocess.run([\"rm\", output])"
   ]
  },
  {
   "cell_type": "markdown",
   "id": "c3ca0fc1",
   "metadata": {},
   "source": [
    "## Reading the Dataset:\n",
    "---\n",
    "* Using `chunksize` on `pd.read_csv()` method to use less RAM memory during reading"
   ]
  },
  {
   "cell_type": "code",
   "execution_count": null,
   "id": "19baebb2",
   "metadata": {},
   "outputs": [],
   "source": [
    "import warnings\n",
    "\n",
    "missing_values = [\n",
    "    '', ' ', 'NA', 'N/A', 'NULL',\n",
    "    'ID_AGRAVO', 'DT_NOTIFIC', 'SEM_NOT', 'NU_ANO', 'SG_UF_NOT',\n",
    "    'ID_MUNICIP', 'ID_REGIONA', 'ID_UNIDADE', 'DT_SIN_PRI', 'SEM_PRI',\n",
    "    'DT_NASC', 'NU_IDADE_N', 'CS_SEXO', 'CS_GESTANT', 'CS_RACA',\n",
    "    'CS_ESCOL_N', 'SG_UF', 'ID_MN_RESI', 'ID_RG_RESI', 'ID_PAIS',\n",
    "    'DT_INVEST', 'FEBRE', 'MIALGIA', 'CEFALEIA', 'EXANTEMA',\n",
    "    'VOMITO', 'NAUSEA', 'DOR_COSTAS', 'CONJUNTVIT', 'ARTRITE',\n",
    "    'ARTRALGIA', 'PETEQUIA_N', 'LEUCOPENIA', 'LACO', 'DOR_RETRO',\n",
    "    'DIABETES', 'HEMATOLOG', 'HEPATOPAT', 'RENAL', 'HIPERTENSA',\n",
    "    'ACIDO_PEPT', 'AUTO_IMUNE', 'RESUL_SORO', 'RESUL_NS1', 'RESUL_VI_N',\n",
    "    'RESUL_PCR_', 'HISTOPA_N', 'IMUNOH_N', 'HOSPITALIZ', 'TPAUTOCTO',\n",
    "    'COUFINF', 'COPAISINF', 'COMUNINF', 'CLASSI_FIN', 'EVOLUCAO', 'DT_ENCERRA'\n",
    "]\n",
    "\n",
    "warnings.filterwarnings(\"ignore\")\n",
    "# Low memory safe reading of the CSV file\n",
    "splitted_df = pd.read_csv(\n",
    "    './raw_data/arbovirus_clinical_data/dengue.csv',\n",
    "    sep=',',\n",
    "    header=0,\n",
    "    na_values=missing_values,\n",
    "    chunksize=100_000,\n",
    ")\n",
    "\n",
    "# Concatenate all chunks into a single DataFrame\n",
    "dengue_df = pd.concat(splitted_df, ignore_index=True)\n",
    "warnings.filterwarnings(\"default\")"
   ]
  },
  {
   "cell_type": "markdown",
   "id": "283ad20d",
   "metadata": {},
   "source": [
    "* The file `attributes.csv` has important information about the features"
   ]
  },
  {
   "cell_type": "code",
   "execution_count": null,
   "id": "e7ee9486",
   "metadata": {},
   "outputs": [],
   "source": [
    "attributes = pd.read_csv(\"raw_data/arbovirus_clinical_data/attributes.csv\", sep=\",\", header=0, low_memory=False)\n",
    "attributes = attributes.ffill()\n",
    "attributes = attributes.groupby([\"Attribute\", \"Description\"])[\"Value\"].apply('; '.join).reset_index(name=\"Values\")"
   ]
  },
  {
   "cell_type": "markdown",
   "id": "01df4c0d",
   "metadata": {},
   "source": [
    "## Pre Processing\n",
    "---\n",
    "### Null Data Removal:\n",
    "* Features with frequency > 60% of null values are dropped.\n",
    "* Also, columns like `[\"CS_FLXRET\", \"TP_SISTEMA\", \"CRITERIO\", \"TP_NOT\", \"Unnamed: 0\"]` doesn't have useful information, therefore they can be dropped."
   ]
  },
  {
   "cell_type": "code",
   "execution_count": null,
   "id": "ed40d60d",
   "metadata": {},
   "outputs": [],
   "source": [
    "dengue_df = dengue_df.loc[:, dengue_df.isnull().mean() < .60]\n",
    "dengue_df = dengue_df.drop(columns=[\"CS_FLXRET\", \"TP_SISTEMA\", \"CRITERIO\", \"TP_NOT\", \"Unnamed: 0\"])"
   ]
  },
  {
   "cell_type": "markdown",
   "id": "ffac3f37",
   "metadata": {},
   "source": [
    "* Printing unique values for each feature to check their data type."
   ]
  },
  {
   "cell_type": "code",
   "execution_count": null,
   "id": "80a82172",
   "metadata": {},
   "outputs": [],
   "source": [
    "for col in dengue_df.columns.to_list():\n",
    "    if str(col) in attributes[\"Attribute\"].to_list():\n",
    "        print(f\"Column '{col}' has {dengue_df[col].unique().size} unique values.\")\n",
    "        if dengue_df[col].unique().size < 50:\n",
    "            print(dengue_df[col].unique(), end=\"\\n\\n\")\n",
    "        else:\n",
    "            print(\"To many unique values, skipping...\", end=\"\\n\\n\")\n",
    "    else:\n",
    "        print_with_colors(f\"Column '{col}' not in attributes. Skipping display...\", \"yellow\", end=\"\\n\\n\")"
   ]
  },
  {
   "cell_type": "markdown",
   "id": "a18200c2",
   "metadata": {},
   "source": [
    "### Standardization of column values:\n",
    "* Since the system has changed over the year, multiple codes were used to represent some types of Dengue. In the cell below we standardized these problem."
   ]
  },
  {
   "cell_type": "code",
   "execution_count": null,
   "id": "4ccf7859",
   "metadata": {},
   "outputs": [],
   "source": [
    "dengue_df['CLASSI_FIN'] = dengue_df['CLASSI_FIN'].astype('object')\n",
    "\n",
    "dengue_df.loc[dengue_df['CLASSI_FIN']==1, 'CLASSI_FIN'] = 'Dengue'\n",
    "dengue_df.loc[dengue_df['CLASSI_FIN']==10, 'CLASSI_FIN'] = 'Dengue'\n",
    "\n",
    "dengue_df.loc[dengue_df['CLASSI_FIN']==3, 'CLASSI_FIN'] = 'Dengue Grave'\n",
    "dengue_df.loc[dengue_df['CLASSI_FIN']==4, 'CLASSI_FIN'] = 'Dengue Grave'\n",
    "dengue_df.loc[dengue_df['CLASSI_FIN']==12, 'CLASSI_FIN'] = 'Dengue Grave'\n",
    "\n",
    "dengue_df.loc[dengue_df['CLASSI_FIN']==2, 'CLASSI_FIN'] = 'Dengue com sinais de alarme'\n",
    "dengue_df.loc[dengue_df['CLASSI_FIN']==11, 'CLASSI_FIN'] = 'Dengue com sinais de alarme'\n",
    "\n",
    "# Discarded/Inconclusive\n",
    "dengue_df.loc[dengue_df['CLASSI_FIN']==5, 'CLASSI_FIN'] = 'Discarded/Inconclusive'\n",
    "dengue_df.loc[dengue_df['CLASSI_FIN']==6, 'CLASSI_FIN'] = 'Discarded/Inconclusive'\n",
    "dengue_df.loc[dengue_df['CLASSI_FIN']==8, 'CLASSI_FIN'] = 'Discarded/Inconclusive'\n",
    "\n",
    "dengue_df['CLASSI_FIN'] = dengue_df['CLASSI_FIN'].fillna('Discarded/Inconclusive')\n",
    "dengue_df['CLASSI_FIN'] = dengue_df['CLASSI_FIN'].astype('category')"
   ]
  },
  {
   "cell_type": "markdown",
   "id": "b66454f7",
   "metadata": {},
   "source": [
    "### Null data padding with default values:\n",
    "The resulting attributes that still had null data were entered with the default values referring to the data dictionary."
   ]
  },
  {
   "cell_type": "code",
   "execution_count": null,
   "id": "51b6485a",
   "metadata": {},
   "outputs": [],
   "source": [
    "exam_cols = [\n",
    "    \"RESUL_SORO\",\n",
    "    \"RESUL_NS1\",\n",
    "    \"RESUL_VI_N\",\n",
    "    \"RESUL_PCR_\",\n",
    "    \"HISTOPA_N\",\n",
    "    \"IMUNOH_N\"\n",
    "]\n",
    "for col in exam_cols:\n",
    "    if dengue_df[col].isnull().sum() > 0:\n",
    "        dengue_df.loc[dengue_df[col].isnull(), col] = 4\n",
    "\n",
    "dengue_df['CS_SEXO'] = dengue_df['CS_SEXO'].fillna('I')\n",
    "\n",
    "# In the other attributes, the value of \"not informed\" is 9.\n",
    "columns_to_be_filled = [\n",
    "    col\n",
    "    for col in dengue_df.columns\n",
    "    if col not in exam_cols\n",
    "    and 'DT_' not in str(col) # for datetime columns it doesn't make sense\n",
    "    and not 'CS_SEXO'.__eq__(str(col)) # CS_SEXO has the special value 'I' for NaNs\n",
    "]\n",
    "for col in columns_to_be_filled:\n",
    "    if dengue_df[col].isnull().sum() > 0:\n",
    "        dengue_df.loc[dengue_df[col].isnull(), col] = 9\n"
   ]
  },
  {
   "cell_type": "markdown",
   "id": "c2b83ee5",
   "metadata": {},
   "source": [
    "Removing columns 'ID_AGRAVO', because it has only 1 fixed value: `A90`"
   ]
  },
  {
   "cell_type": "code",
   "execution_count": null,
   "id": "a16ec960",
   "metadata": {},
   "outputs": [],
   "source": [
    "dengue_df = dengue_df.drop(columns=['ID_AGRAVO'])"
   ]
  },
  {
   "cell_type": "code",
   "execution_count": null,
   "id": "c14aa0cf",
   "metadata": {},
   "outputs": [],
   "source": [
    "dtypes = {\n",
    "    'SEM_NOT': 'int32',\n",
    "    'NU_ANO': 'int16',\n",
    "    'SG_UF_NOT': 'category',\n",
    "    'ID_MUNICIP': 'category',\n",
    "    'ID_REGIONA': 'category',\n",
    "    'ID_UNIDADE': 'category',\n",
    "    'SEM_PRI': 'int32',\n",
    "    'NU_IDADE_N': 'int8',\n",
    "    'CS_SEXO': 'category',\n",
    "    'CS_GESTANT': 'category',\n",
    "    'CS_RACA': 'category',\n",
    "    'CS_ESCOL_N': 'category',\n",
    "    'SG_UF': 'category',\n",
    "    'ID_MN_RESI': 'category',\n",
    "    'ID_RG_RESI': 'category',\n",
    "    'ID_PAIS': 'category',\n",
    "    'FEBRE': 'category',\n",
    "    'MIALGIA': 'category',\n",
    "    'CEFALEIA': 'category',\n",
    "    'EXANTEMA': 'category',\n",
    "    'VOMITO': 'category',\n",
    "    'NAUSEA': 'category',\n",
    "    'DOR_COSTAS': 'category',\n",
    "    'CONJUNTVIT': 'category',\n",
    "    'ARTRITE': 'category',\n",
    "    'ARTRALGIA': 'category',\n",
    "    'PETEQUIA_N': 'category',\n",
    "    'LEUCOPENIA': 'category',\n",
    "    'LACO': 'category',\n",
    "    'DOR_RETRO': 'category',\n",
    "    'DIABETES': 'category',\n",
    "    'HEMATOLOG': 'category',\n",
    "    'HEPATOPAT': 'category',\n",
    "    'RENAL': 'category',\n",
    "    'HIPERTENSA': 'category',\n",
    "    'ACIDO_PEPT': 'category',\n",
    "    'AUTO_IMUNE': 'category',\n",
    "    'RESUL_SORO': 'category',\n",
    "    'RESUL_NS1': 'category',\n",
    "    'RESUL_VI_N': 'category',\n",
    "    'RESUL_PCR_': 'category',\n",
    "    'HISTOPA_N': 'category',\n",
    "    'IMUNOH_N': 'category',\n",
    "    'HOSPITALIZ': 'category',\n",
    "    'TPAUTOCTO': 'category',\n",
    "    'COUFINF': 'category',\n",
    "    'COPAISINF': 'category',\n",
    "    'COMUNINF': 'category',\n",
    "    'CLASSI_FIN': 'object',\n",
    "    'EVOLUCAO': 'category',\n",
    "}"
   ]
  },
  {
   "cell_type": "markdown",
   "id": "4b7487e4",
   "metadata": {},
   "source": [
    "### Setting dtypes to columns:"
   ]
  },
  {
   "cell_type": "code",
   "execution_count": null,
   "id": "0499de8c",
   "metadata": {},
   "outputs": [],
   "source": [
    "date_cols = ['DT_NOTIFIC', 'DT_SIN_PRI', 'DT_NASC', 'DT_INVEST', 'DT_ENCERRA']\n",
    "for col in date_cols:\n",
    "    if col in dengue_df.columns:\n",
    "        dengue_df[col] = pd.to_datetime(dengue_df[col], errors='coerce')\n",
    "\n",
    "dengue_df['SEM_PRI'] = dengue_df['SEM_PRI'].apply(lambda x: x.replace('-', '') if isinstance(x, str) else x)\n",
    "dengue_df = dengue_df.astype(dtypes)"
   ]
  }
 ],
 "metadata": {
  "kernelspec": {
   "display_name": ".venv",
   "language": "python",
   "name": "python3"
  },
  "language_info": {
   "codemirror_mode": {
    "name": "ipython",
    "version": 3
   },
   "file_extension": ".py",
   "mimetype": "text/x-python",
   "name": "python",
   "nbconvert_exporter": "python",
   "pygments_lexer": "ipython3",
   "version": "3.12.3"
  }
 },
 "nbformat": 4,
 "nbformat_minor": 5
}
