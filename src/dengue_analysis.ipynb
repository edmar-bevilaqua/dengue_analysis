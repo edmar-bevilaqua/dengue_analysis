{
 "cells": [
  {
   "cell_type": "code",
   "execution_count": null,
   "id": "964a68cb",
   "metadata": {
    "vscode": {
     "languageId": "plaintext"
    }
   },
   "outputs": [],
   "source": [
    "import pandas as pd\n",
    "import numpy as np\n",
    "import matplotlib.pyplot as plt\n",
    "import seaborn as sns\n",
    "import subprocess"
   ]
  },
  {
   "cell_type": "code",
   "execution_count": null,
   "id": "4aef298c",
   "metadata": {
    "vscode": {
     "languageId": "plaintext"
    }
   },
   "outputs": [],
   "source": [
    "# Download of .zip file\n",
    "url = \"https://prod-dcd-datasets-cache-zipfiles.s3.eu-west-1.amazonaws.com/2d3kr8zynf-4.zip\"\n",
    "output = f\"./raw_data/dataset.zip\"\n",
    "subprocess.run([\"wget\", \"--no-check-certificate\", url, \"-O\", output])\n",
    "\n",
    "# Extraction of .zip file\n",
    "subprocess.run([\"unzip\", output])\n",
    "subprocess.run([\"mv\", \"/raw_data/2d3kr8zynf-4\", \"/raw_data/arbovirus_clinical_data\"])"
   ]
  },
  {
   "cell_type": "code",
   "execution_count": null,
   "id": "85ed54f8",
   "metadata": {
    "vscode": {
     "languageId": "plaintext"
    }
   },
   "outputs": [],
   "source": [
    "df = pd.read_csv('/content/arbovirus_clinical_data/data set.csv')"
   ]
  }
 ],
 "metadata": {
  "language_info": {
   "name": "python"
  }
 },
 "nbformat": 4,
 "nbformat_minor": 5
}
